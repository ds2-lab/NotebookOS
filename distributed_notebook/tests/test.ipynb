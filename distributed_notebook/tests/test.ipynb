{
 "cells": [
  {
   "cell_type": "code",
   "execution_count": 2,
   "metadata": {},
   "outputs": [
    {
     "name": "stdout",
     "output_type": "stream",
     "text": [
      "List pickle 216 bytes: b'\\x80\\x04\\x95\\xcd\\x00\\x00\\x00\\x00\\x00\\x00\\x00]\\x94(K\\x00K\\x01K\\x02K\\x03K\\x04K\\x05K\\x06K\\x07K\\x08K\\tK\\nK\\x0bK\\x0cK\\rK\\x0eK\\x0fK\\x10K\\x11K\\x12K\\x13K\\x14K\\x15K\\x16K\\x17K\\x18K\\x19K\\x1aK\\x1bK\\x1cK\\x1dK\\x1eK\\x1fK K!K\"K#K$K%K&K\\'K(K)K*K+K,K-K.K/K0K1K2K3K4K5K6K7K8K9K:K;K<K=K>K?K@KAKBKCKDKEKFKGKHKIKJKKKLKMKNKOKPKQKRKSKTKUKVKWKXKYKZK[K\\\\K]K^K_K`KaKbKce.'\n",
      "Tuple pickle 215 bytes: b'\\x80\\x04\\x95\\xcc\\x00\\x00\\x00\\x00\\x00\\x00\\x00(K\\x00K\\x01K\\x02K\\x03K\\x04K\\x05K\\x06K\\x07K\\x08K\\tK\\nK\\x0bK\\x0cK\\rK\\x0eK\\x0fK\\x10K\\x11K\\x12K\\x13K\\x14K\\x15K\\x16K\\x17K\\x18K\\x19K\\x1aK\\x1bK\\x1cK\\x1dK\\x1eK\\x1fK K!K\"K#K$K%K&K\\'K(K)K*K+K,K-K.K/K0K1K2K3K4K5K6K7K8K9K:K;K<K=K>K?K@KAKBKCKDKEKFKGKHKIKJKKKLKMKNKOKPKQKRKSKTKUKVKWKXKYKZK[K\\\\K]K^K_K`KaKbKct\\x94.'\n"
     ]
    }
   ],
   "source": [
    "import pickle\n",
    "\n",
    "# Create a list and a tuple with the same elements\n",
    "lst = [i for i in range(100)]\n",
    "tup = tuple(i for i in range(100))\n",
    "\n",
    "# Pickle the list and the tuple\n",
    "lst_pickle = pickle.dumps(lst)\n",
    "tup_pickle = pickle.dumps(tup)\n",
    "\n",
    "print(\"List pickle {} bytes: {}\".format(len(lst_pickle), lst_pickle))\n",
    "print(\"Tuple pickle {} bytes: {}\".format(len(tup_pickle), tup_pickle))"
   ]
  },
  {
   "cell_type": "code",
   "execution_count": 1,
   "metadata": {},
   "outputs": [
    {
     "name": "stdout",
     "output_type": "stream",
     "text": [
      "True\n",
      "True\n",
      "True\n",
      "False\n",
      "True\n"
     ]
    }
   ],
   "source": [
    "class T(tuple):\n",
    "    pass\n",
    "\n",
    "a = (1, 2, 3)\n",
    "b =  T((1, 2, 3))\n",
    "print(a == b)\n",
    "print(isinstance(a, tuple))\n",
    "print(isinstance(b, tuple))\n",
    "print(isinstance(a, T))\n",
    "print(isinstance(b, T))"
   ]
  },
  {
   "cell_type": "code",
   "execution_count": 1,
   "metadata": {},
   "outputs": [
    {
     "name": "stdout",
     "output_type": "stream",
     "text": [
      "b'\\x80\\x04\\x95\\xca\\x00\\x00\\x00\\x00\\x00\\x00\\x00\\x8c\\x15numpy.core.multiarray\\x94\\x8c\\x0c_reconstruct\\x94\\x93\\x94\\x8c\\x05numpy\\x94\\x8c\\x07ndarray\\x94\\x93\\x94K\\x00\\x85\\x94C\\x01b\\x94\\x87\\x94R\\x94(K\\x01K\\x02K\\x04\\x86\\x94h\\x03\\x8c\\x05dtype\\x94\\x93\\x94\\x8c\\x02i8\\x94\\x89\\x88\\x87\\x94R\\x94(K\\x03\\x8c\\x01<\\x94NNNJ\\xff\\xff\\xff\\xffJ\\xff\\xff\\xff\\xffK\\x00t\\x94b\\x89C@\\x19\\x00\\x00\\x00\\x00\\x00\\x00\\x00 \\x00\\x00\\x00\\x00\\x00\\x00\\x00\\x16\\x00\\x00\\x00\\x00\\x00\\x00\\x00-\\x00\\x00\\x00\\x00\\x00\\x00\\x00\\xd8\\xd6\\x00\\x00\\x00\\x00\\x00\\x00\\x10!\\x01\\x00\\x00\\x00\\x00\\x00\\x80\\xbb\\x00\\x00\\x00\\x00\\x00\\x00\\xd0\\x01\\x01\\x00\\x00\\x00\\x00\\x00\\x94t\\x94b.'\n"
     ]
    }
   ],
   "source": [
    "import numpy as np\n",
    "\n",
    "arr = np.array([[25, 32, 22, 45], [55000, 74000, 48000, 66000]])\n",
    "\n",
    "import pickle\n",
    "\n",
    "pickled_arr = pickle.dumps(arr, protocol=4)  # using protocol version 4\n",
    "\n",
    "# Prints the pickled numpy array\n",
    "print(pickled_arr)"
   ]
  }
 ],
 "metadata": {
  "kernelspec": {
   "display_name": "Python 3",
   "language": "python",
   "name": "python3"
  },
  "language_info": {
   "codemirror_mode": {
    "name": "ipython",
    "version": 3
   },
   "file_extension": ".py",
   "mimetype": "text/x-python",
   "name": "python",
   "nbconvert_exporter": "python",
   "pygments_lexer": "ipython3",
   "version": "3.9.6"
  },
  "orig_nbformat": 4
 },
 "nbformat": 4,
 "nbformat_minor": 2
}
